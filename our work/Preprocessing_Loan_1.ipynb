{
 "cells": [
  {
   "cell_type": "markdown",
   "id": "f94c431c",
   "metadata": {},
   "source": [
    "# DATA PREPROCESSING SAMPLE FOR LOAN PREDICTION"
   ]
  },
  {
   "cell_type": "markdown",
   "id": "93e63ef9",
   "metadata": {},
   "source": [
    "## DATA CLEANING\n",
    "## Handle Missing Data"
   ]
  },
  {
   "cell_type": "code",
   "execution_count": 11,
   "id": "51388777",
   "metadata": {},
   "outputs": [],
   "source": [
    "import numpy as np\n",
    "import pandas as pd\n",
    "from sklearn.impute import SimpleImputer"
   ]
  },
  {
   "cell_type": "code",
   "execution_count": 15,
   "id": "77ced872",
   "metadata": {},
   "outputs": [
    {
     "name": "stdout",
     "output_type": "stream",
     "text": [
      "          Gender Married Dependents     Education Self_Employed  \\\n",
      "Loan_ID                                                           \n",
      "LP001002    Male      No          0      Graduate            No   \n",
      "LP001003    Male     Yes          1      Graduate            No   \n",
      "LP001005    Male     Yes          0      Graduate           Yes   \n",
      "LP001006    Male     Yes          0  Not Graduate            No   \n",
      "LP001008    Male      No          0      Graduate            No   \n",
      "...          ...     ...        ...           ...           ...   \n",
      "LP002978  Female      No          0      Graduate            No   \n",
      "LP002979    Male     Yes         3+      Graduate            No   \n",
      "LP002983    Male     Yes          1      Graduate            No   \n",
      "LP002984    Male     Yes          2      Graduate            No   \n",
      "LP002990  Female      No          0      Graduate           Yes   \n",
      "\n",
      "          ApplicantIncome  CoapplicantIncome  LoanAmount  Loan_Amount_Term  \\\n",
      "Loan_ID                                                                      \n",
      "LP001002             5849                0.0         NaN             360.0   \n",
      "LP001003             4583             1508.0       128.0             360.0   \n",
      "LP001005             3000                0.0        66.0             360.0   \n",
      "LP001006             2583             2358.0       120.0             360.0   \n",
      "LP001008             6000                0.0       141.0             360.0   \n",
      "...                   ...                ...         ...               ...   \n",
      "LP002978             2900                0.0        71.0             360.0   \n",
      "LP002979             4106                0.0        40.0             180.0   \n",
      "LP002983             8072              240.0       253.0             360.0   \n",
      "LP002984             7583                0.0       187.0             360.0   \n",
      "LP002990             4583                0.0       133.0             360.0   \n",
      "\n",
      "          Credit_History Property_Area Loan_Status  \n",
      "Loan_ID                                             \n",
      "LP001002             1.0         Urban           Y  \n",
      "LP001003             1.0         Rural           N  \n",
      "LP001005             1.0         Urban           Y  \n",
      "LP001006             1.0         Urban           Y  \n",
      "LP001008             1.0         Urban           Y  \n",
      "...                  ...           ...         ...  \n",
      "LP002978             1.0         Rural           Y  \n",
      "LP002979             1.0         Rural           Y  \n",
      "LP002983             1.0         Urban           Y  \n",
      "LP002984             1.0         Urban           Y  \n",
      "LP002990             0.0     Semiurban           N  \n",
      "\n",
      "[614 rows x 12 columns]\n"
     ]
    }
   ],
   "source": [
    "TrainData = pd.read_csv(\"Train Data.csv\", delimiter = ',', header = 0, index_col = 0)\n",
    "print(TrainData)"
   ]
  },
  {
   "cell_type": "code",
   "execution_count": 16,
   "id": "ffff8adc",
   "metadata": {},
   "outputs": [
    {
     "name": "stdout",
     "output_type": "stream",
     "text": [
      "['ApplicantIncome', 'CoapplicantIncome', 'LoanAmount', 'Loan_Amount_Term', 'Credit_History']\n"
     ]
    }
   ],
   "source": [
    "#Identify missing data of both types, numerical and categorical data\n",
    "NumericData = TrainData.select_dtypes(exclude = ['object']).columns.tolist()\n",
    "print(NumericData)"
   ]
  },
  {
   "cell_type": "code",
   "execution_count": 17,
   "id": "dbbae929",
   "metadata": {},
   "outputs": [
    {
     "name": "stdout",
     "output_type": "stream",
     "text": [
      "          ApplicantIncome  CoapplicantIncome  LoanAmount  Loan_Amount_Term  \\\n",
      "Loan_ID                                                                      \n",
      "LP001002             5849                0.0         NaN             360.0   \n",
      "LP001003             4583             1508.0       128.0             360.0   \n",
      "LP001005             3000                0.0        66.0             360.0   \n",
      "LP001006             2583             2358.0       120.0             360.0   \n",
      "LP001008             6000                0.0       141.0             360.0   \n",
      "...                   ...                ...         ...               ...   \n",
      "LP002978             2900                0.0        71.0             360.0   \n",
      "LP002979             4106                0.0        40.0             180.0   \n",
      "LP002983             8072              240.0       253.0             360.0   \n",
      "LP002984             7583                0.0       187.0             360.0   \n",
      "LP002990             4583                0.0       133.0             360.0   \n",
      "\n",
      "          Credit_History  \n",
      "Loan_ID                   \n",
      "LP001002             1.0  \n",
      "LP001003             1.0  \n",
      "LP001005             1.0  \n",
      "LP001006             1.0  \n",
      "LP001008             1.0  \n",
      "...                  ...  \n",
      "LP002978             1.0  \n",
      "LP002979             1.0  \n",
      "LP002983             1.0  \n",
      "LP002984             1.0  \n",
      "LP002990             0.0  \n",
      "\n",
      "[614 rows x 5 columns] \n",
      "\n"
     ]
    }
   ],
   "source": [
    "#Numerical data with loan id\n",
    "TrainData_n = TrainData[NumericData]\n",
    "print(TrainData_n, '\\n')"
   ]
  },
  {
   "cell_type": "code",
   "execution_count": 18,
   "id": "147130d1",
   "metadata": {},
   "outputs": [
    {
     "name": "stdout",
     "output_type": "stream",
     "text": [
      "[[5.849e+03 0.000e+00 0.000e+00 3.600e+02 1.000e+00]\n",
      " [4.583e+03 1.508e+03 1.280e+02 3.600e+02 1.000e+00]\n",
      " [3.000e+03 0.000e+00 6.600e+01 3.600e+02 1.000e+00]\n",
      " ...\n",
      " [8.072e+03 2.400e+02 2.530e+02 3.600e+02 1.000e+00]\n",
      " [7.583e+03 0.000e+00 1.870e+02 3.600e+02 1.000e+00]\n",
      " [4.583e+03 0.000e+00 1.330e+02 3.600e+02 0.000e+00]]\n"
     ]
    }
   ],
   "source": [
    "#make sure there are no missing values\n",
    "#if there are missing values replace with 0\n",
    "#eliminate any tuple with an attribute marked as 0\n",
    "MissingZero = SimpleImputer(missing_values = np.NaN , strategy = 'constant', fill_value = 0)\n",
    "MissingZero.fit(TrainData_n)\n",
    "TrainData_n = MissingZero.transform(TrainData_n)\n",
    "print(TrainData_n)"
   ]
  },
  {
   "cell_type": "code",
   "execution_count": 19,
   "id": "6d6b6226",
   "metadata": {},
   "outputs": [
    {
     "name": "stdout",
     "output_type": "stream",
     "text": [
      "['Gender', 'Married', 'Dependents', 'Education', 'Self_Employed', 'Property_Area', 'Loan_Status']\n"
     ]
    }
   ],
   "source": [
    "CategoricData = TrainData.select_dtypes(include = ['object']).columns.tolist()\n",
    "print(CategoricData)"
   ]
  },
  {
   "cell_type": "code",
   "execution_count": 20,
   "id": "79e27c57",
   "metadata": {},
   "outputs": [
    {
     "name": "stdout",
     "output_type": "stream",
     "text": [
      "          Gender Married Dependents     Education Self_Employed Property_Area  \\\n",
      "Loan_ID                                                                         \n",
      "LP001002    Male      No          0      Graduate            No         Urban   \n",
      "LP001003    Male     Yes          1      Graduate            No         Rural   \n",
      "LP001005    Male     Yes          0      Graduate           Yes         Urban   \n",
      "LP001006    Male     Yes          0  Not Graduate            No         Urban   \n",
      "LP001008    Male      No          0      Graduate            No         Urban   \n",
      "...          ...     ...        ...           ...           ...           ...   \n",
      "LP002978  Female      No          0      Graduate            No         Rural   \n",
      "LP002979    Male     Yes         3+      Graduate            No         Rural   \n",
      "LP002983    Male     Yes          1      Graduate            No         Urban   \n",
      "LP002984    Male     Yes          2      Graduate            No         Urban   \n",
      "LP002990  Female      No          0      Graduate           Yes     Semiurban   \n",
      "\n",
      "         Loan_Status  \n",
      "Loan_ID               \n",
      "LP001002           Y  \n",
      "LP001003           N  \n",
      "LP001005           Y  \n",
      "LP001006           Y  \n",
      "LP001008           Y  \n",
      "...              ...  \n",
      "LP002978           Y  \n",
      "LP002979           Y  \n",
      "LP002983           Y  \n",
      "LP002984           Y  \n",
      "LP002990           N  \n",
      "\n",
      "[614 rows x 7 columns] \n",
      "\n"
     ]
    }
   ],
   "source": [
    "TrainData_c = TrainData[CategoricData]\n",
    "print(TrainData_c, '\\n')"
   ]
  },
  {
   "cell_type": "code",
   "execution_count": 21,
   "id": "bd16e3fa",
   "metadata": {},
   "outputs": [
    {
     "name": "stdout",
     "output_type": "stream",
     "text": [
      "[['Male' 'No' '0' ... 'No' 'Urban' 'Y']\n",
      " ['Male' 'Yes' '1' ... 'No' 'Rural' 'N']\n",
      " ['Male' 'Yes' '0' ... 'Yes' 'Urban' 'Y']\n",
      " ...\n",
      " ['Male' 'Yes' '1' ... 'No' 'Urban' 'Y']\n",
      " ['Male' 'Yes' '2' ... 'No' 'Urban' 'Y']\n",
      " ['Female' 'No' '0' ... 'Yes' 'Semiurban' 'N']]\n"
     ]
    }
   ],
   "source": [
    "MissingStatus = SimpleImputer(missing_values = np.NaN , strategy = 'constant', fill_value = 'Not Applicable')\n",
    "MissingStatus.fit(TrainData_c)\n",
    "TrainData_c = MissingStatus.transform(TrainData_c)\n",
    "print(TrainData_c)"
   ]
  },
  {
   "cell_type": "code",
   "execution_count": 22,
   "id": "63da4cf2",
   "metadata": {},
   "outputs": [
    {
     "name": "stdout",
     "output_type": "stream",
     "text": [
      "          Gender Married Dependents     Education Self_Employed  \\\n",
      "Loan_ID                                                           \n",
      "LP001002    Male      No          0      Graduate            No   \n",
      "LP001003    Male     Yes          1      Graduate            No   \n",
      "LP001005    Male     Yes          0      Graduate           Yes   \n",
      "LP001006    Male     Yes          0  Not Graduate            No   \n",
      "LP001008    Male      No          0      Graduate            No   \n",
      "...          ...     ...        ...           ...           ...   \n",
      "LP002978  Female      No          0      Graduate            No   \n",
      "LP002979    Male     Yes         3+      Graduate            No   \n",
      "LP002983    Male     Yes          1      Graduate            No   \n",
      "LP002984    Male     Yes          2      Graduate            No   \n",
      "LP002990  Female      No          0      Graduate           Yes   \n",
      "\n",
      "          ApplicantIncome  CoapplicantIncome  LoanAmount  Loan_Amount_Term  \\\n",
      "Loan_ID                                                                      \n",
      "LP001002           5849.0                0.0         0.0             360.0   \n",
      "LP001003           4583.0             1508.0       128.0             360.0   \n",
      "LP001005           3000.0                0.0        66.0             360.0   \n",
      "LP001006           2583.0             2358.0       120.0             360.0   \n",
      "LP001008           6000.0                0.0       141.0             360.0   \n",
      "...                   ...                ...         ...               ...   \n",
      "LP002978           2900.0                0.0        71.0             360.0   \n",
      "LP002979           4106.0                0.0        40.0             180.0   \n",
      "LP002983           8072.0              240.0       253.0             360.0   \n",
      "LP002984           7583.0                0.0       187.0             360.0   \n",
      "LP002990           4583.0                0.0       133.0             360.0   \n",
      "\n",
      "          Credit_History Property_Area Loan_Status  \n",
      "Loan_ID                                             \n",
      "LP001002             1.0         Urban           Y  \n",
      "LP001003             1.0         Rural           N  \n",
      "LP001005             1.0         Urban           Y  \n",
      "LP001006             1.0         Urban           Y  \n",
      "LP001008             1.0         Urban           Y  \n",
      "...                  ...           ...         ...  \n",
      "LP002978             1.0         Rural           Y  \n",
      "LP002979             1.0         Rural           Y  \n",
      "LP002983             1.0         Urban           Y  \n",
      "LP002984             1.0         Urban           Y  \n",
      "LP002990             0.0     Semiurban           N  \n",
      "\n",
      "[614 rows x 12 columns]\n"
     ]
    }
   ],
   "source": [
    "TrainData[NumericData] = TrainData_n\n",
    "TrainData[CategoricData] = TrainData_c\n",
    "print(TrainData)"
   ]
  },
  {
   "cell_type": "markdown",
   "id": "f1151776",
   "metadata": {},
   "source": [
    "## Handle Noisy Data\n",
    "## Binning By pd.cut"
   ]
  },
  {
   "cell_type": "code",
   "execution_count": 23,
   "id": "c59047ad",
   "metadata": {},
   "outputs": [
    {
     "name": "stdout",
     "output_type": "stream",
     "text": [
      "count      614.000000\n",
      "mean      5403.459283\n",
      "std       6109.041673\n",
      "min        150.000000\n",
      "25%       2877.500000\n",
      "50%       3812.500000\n",
      "75%       5795.000000\n",
      "max      81000.000000\n",
      "Name: ApplicantIncome, dtype: float64\n"
     ]
    }
   ],
   "source": [
    "#Bin by Applicant Income, Coapplicant Income, Loan Amount\n",
    "print(TrainData['ApplicantIncome'].describe())\n",
    "#ApplicantIncomeCut = pd.cut(TrainData.iloc[:, 5], 4)\n",
    "#print(ApplicantIncomeCut)"
   ]
  },
  {
   "cell_type": "code",
   "execution_count": 24,
   "id": "7096caa7",
   "metadata": {},
   "outputs": [
    {
     "name": "stdout",
     "output_type": "stream",
     "text": [
      "(69.0, 8235.0]        533\n",
      "(8235.0, 16320.0]      59\n",
      "(16320.0, 24405.0]     15\n",
      "(24405.0, 32490.0]      0\n",
      "(32490.0, 40575.0]      4\n",
      "(40575.0, 48660.0]      0\n",
      "(48660.0, 56745.0]      1\n",
      "(56745.0, 64830.0]      1\n",
      "(64830.0, 72915.0]      0\n",
      "(72915.0, 81000.0]      1\n",
      "Name: ApplicantIncome, dtype: int64\n"
     ]
    }
   ],
   "source": [
    "Bins = 10\n",
    "ApplicantIncomeBinSize = (81000 - 150)/Bins\n",
    "print(pd.cut(TrainData['ApplicantIncome'], Bins, precision = 0).value_counts(sort=False))"
   ]
  },
  {
   "cell_type": "code",
   "execution_count": 25,
   "id": "16d4c5d8",
   "metadata": {},
   "outputs": [],
   "source": [
    "TrainData['ApplicantIncome_Bin'] = pd.cut(TrainData['ApplicantIncome'], Bins, labels = False)\n",
    "#print(TrainData.head())                                          "
   ]
  },
  {
   "cell_type": "code",
   "execution_count": 47,
   "id": "c2f5b9fe",
   "metadata": {},
   "outputs": [
    {
     "name": "stdout",
     "output_type": "stream",
     "text": [
      "count      614.000000\n",
      "mean      1621.245798\n",
      "std       2926.248369\n",
      "min          0.000000\n",
      "25%          0.000000\n",
      "50%       1188.500000\n",
      "75%       2297.250000\n",
      "max      41667.000000\n",
      "Name: CoapplicantIncome, dtype: float64\n"
     ]
    }
   ],
   "source": [
    "print(TrainData['CoapplicantIncome'].describe())"
   ]
  },
  {
   "cell_type": "code",
   "execution_count": 48,
   "id": "c7feb35b",
   "metadata": {},
   "outputs": [
    {
     "name": "stdout",
     "output_type": "stream",
     "text": [
      "count    614.000000\n",
      "mean     141.166124\n",
      "std       88.340630\n",
      "min        0.000000\n",
      "25%       98.000000\n",
      "50%      125.000000\n",
      "75%      164.750000\n",
      "max      700.000000\n",
      "Name: LoanAmount, dtype: float64\n"
     ]
    }
   ],
   "source": [
    "print(TrainData['LoanAmount'].describe())"
   ]
  },
  {
   "cell_type": "markdown",
   "id": "0a27577d",
   "metadata": {},
   "source": [
    "## Binning By Feature Engine"
   ]
  },
  {
   "cell_type": "code",
   "execution_count": 26,
   "id": "080e7fc4",
   "metadata": {},
   "outputs": [],
   "source": [
    "from feature_engine.discretisation import EqualWidthDiscretiser"
   ]
  },
  {
   "cell_type": "code",
   "execution_count": 43,
   "id": "af4abfc2",
   "metadata": {},
   "outputs": [
    {
     "data": {
      "text/plain": [
       "(-inf, 8235.0]        533\n",
       "(8235.0, 16320.0]      59\n",
       "(16320.0, 24405.0]     15\n",
       "(32490.0, 40575.0]      4\n",
       "(48660.0, 56745.0]      1\n",
       "(56745.0, 64830.0]      1\n",
       "(72915.0, inf]          1\n",
       "Name: ApplicantIncome, dtype: int64"
      ]
     },
     "execution_count": 43,
     "metadata": {},
     "output_type": "execute_result"
    }
   ],
   "source": [
    "#Bin by Applicant Income, Coapplicant Income, Loan Amount\n",
    "ApplicantIncomeFE = EqualWidthDiscretiser(bins=10, return_object = True, return_boundaries = True)\n",
    "#ApplicantIncomeFE.fit(TrainData)\n",
    "#ApplicantIncomeFE.transform(TrainData)[\"ApplicantIncome_b\"].value_counts()\n",
    "#ApplicantIncomeFE = EqualWidthDiscretiser()\n",
    "#print(ApplicantIncomeFE)\n",
    "ApplicantIncomeFE.fit(TrainData)\n",
    "ApplicantIncomeFE.transform(TrainData)[\"ApplicantIncome\"].value_counts()"
   ]
  },
  {
   "cell_type": "code",
   "execution_count": 46,
   "id": "ccbd32b3",
   "metadata": {},
   "outputs": [
    {
     "data": {
      "text/plain": [
       "(-inf, 4166.7]        561\n",
       "(4166.7, 8333.4]       46\n",
       "(8333.4, 12500.1]       3\n",
       "(16666.8, 20833.5]      2\n",
       "(33333.6, 37500.3]      1\n",
       "(37500.3, inf]          1\n",
       "Name: CoapplicantIncome, dtype: int64"
      ]
     },
     "execution_count": 46,
     "metadata": {},
     "output_type": "execute_result"
    }
   ],
   "source": [
    "CoapplicantIncomeFE = EqualWidthDiscretiser(bins=10, return_object = True, return_boundaries = True)\n",
    "CoapplicantIncomeFE.fit(TrainData)\n",
    "CoapplicantIncomeFE.transform(TrainData)[\"CoapplicantIncome\"].value_counts()"
   ]
  },
  {
   "cell_type": "code",
   "execution_count": 49,
   "id": "de317aaf",
   "metadata": {},
   "outputs": [
    {
     "data": {
      "text/plain": [
       "(70.0, 140.0]     313\n",
       "(140.0, 210.0]    152\n",
       "(-inf, 70.0]       78\n",
       "(210.0, 280.0]     37\n",
       "(280.0, 350.0]     15\n",
       "(350.0, 420.0]      6\n",
       "(420.0, 490.0]      5\n",
       "(560.0, 630.0]      3\n",
       "(490.0, 560.0]      3\n",
       "(630.0, inf]        2\n",
       "Name: LoanAmount, dtype: int64"
      ]
     },
     "execution_count": 49,
     "metadata": {},
     "output_type": "execute_result"
    }
   ],
   "source": [
    "LoanAmountFE = EqualWidthDiscretiser(bins=10, return_object = True, return_boundaries = True)\n",
    "LoanAmountFE.fit(TrainData)\n",
    "LoanAmountFE.transform(TrainData)[\"LoanAmount\"].value_counts()"
   ]
  },
  {
   "cell_type": "markdown",
   "id": "26300a26",
   "metadata": {},
   "source": [
    "## Binning By KBinsDiscretizer "
   ]
  },
  {
   "cell_type": "code",
   "execution_count": 50,
   "id": "e6590289",
   "metadata": {},
   "outputs": [],
   "source": [
    "from sklearn.preprocessing import KBinsDiscretizer"
   ]
  },
  {
   "cell_type": "code",
   "execution_count": 57,
   "id": "f83022b9",
   "metadata": {},
   "outputs": [
    {
     "ename": "ValueError",
     "evalue": "Expected 2D array, got 1D array instead:\narray=[  0. 128.  66. 120. 141. 267.  95. 158. 168. 349.  70. 109. 200. 114.\n  17. 125. 100.  76. 133. 115. 104. 315. 116. 112. 151. 191. 122. 110.\n  35. 120. 201.  74. 106. 114. 320.   0. 100. 144. 184. 110.  80.  47.\n  75. 134.  96.  88.  44. 144. 120. 144. 100. 120. 112. 134. 286.  97.\n  96. 135. 180. 144. 120.  99. 165.   0. 116. 258. 126. 312. 125. 136.\n 172.  97.  81.  95. 187. 113. 176. 110. 180. 130. 111.   0. 167. 265.\n  50. 136.  99. 104. 210. 175. 131. 188.  81. 122.  25.   0. 137.  50.\n 115. 131. 133. 151.   0.   0. 160. 100. 225. 120. 216.  94. 136. 139.\n 152.   0. 118. 185. 154.  85. 175. 259. 180.  44. 137.  81. 194.  93.\n 370.   0. 160. 182. 650.  74.  70.  25. 102. 290.  84.  88. 242. 129.\n 185. 168. 175. 122. 187. 100.  70.  30. 225. 125. 118. 152. 244. 113.\n  50. 600. 160. 187. 120. 255.  98. 275. 121. 158.  75. 182. 112. 129.\n  63. 200.  95. 700.  81. 187.  87. 116. 101. 495. 116. 102. 180.  67.\n  73. 260. 108. 120.  66.  58. 168. 188.  48. 164. 160.  76. 120. 170.\n 187. 120. 113.  83.  90. 166.   0. 135. 124. 120.  80.  55.  59. 127.\n 214. 128. 240. 130. 137. 100. 135. 131.  72. 127.  60. 116. 144. 175.\n 128. 170. 138. 210. 158. 200. 104.  42. 120. 280. 140. 170. 255. 122.\n 112.  96. 120. 140. 155. 108. 123. 120. 112. 137. 123.  90. 201. 138.\n 104. 279. 192. 255. 115.  94. 304. 128. 330. 134. 155. 120. 128. 151.\n 150. 160. 135.  90.  30. 136. 126. 150.  90. 115. 207.  80. 436. 124.\n 158. 112.  78.  54.   0.  89.  99. 120. 115. 187. 139. 127. 134. 143.\n 172. 110. 200. 135. 151. 113.  93. 105. 132.  96. 140.   0. 135. 104.\n 480. 185.  84. 111.  56. 144. 159. 111. 120.  88. 112. 155. 115. 124.\n   0. 132. 300. 376. 130. 184. 110.  67. 117.  98.  71. 490. 182.  70.\n 160. 176.   0.  71. 173.  46. 158.  74. 125. 160. 152. 126. 259. 187.\n 228. 308.  95. 105. 130. 116. 165.  67. 100. 200.  81. 236. 130.  95.\n 141. 133.  96. 124. 175. 570.  55. 155. 380. 111. 110. 120. 130. 130.\n  71. 130. 128. 296. 156. 128. 100. 113. 132.   0. 136. 125. 185. 275.\n 120. 113. 113. 135.  71.  95. 109. 103.  45.  65. 103.  53. 194. 115.\n 115.  66. 152. 360.  62. 160. 218. 110. 178.  60. 160. 239. 112. 138.\n 138.  80. 100. 110.  96. 121.  81. 133.  87.  60. 150. 105. 405. 143.\n 100.   0.  50.   0. 187. 138. 187. 180. 148. 152. 175. 130. 110.  55.\n 150. 190. 125.  60. 149.  90.  84.  96. 118. 173. 136. 160. 160. 128.\n 153. 132.  98. 140.  70. 110.  98. 110. 162. 113. 100.  93. 162. 150.\n 230. 132.  86.   0. 154. 113. 128. 234. 246. 131.  80. 500. 160.  75.\n  96. 186. 110. 225. 119. 105. 107. 111.  95. 209. 113. 100. 208. 138.\n 124. 243. 480.  96. 188.  40. 100. 250. 148.  70. 311. 150. 113. 123.\n 185.  95.  45.  55. 100. 480.   0. 400. 110. 161.  94. 130. 216. 100.\n 110. 196. 125. 126. 324. 107.  66. 157. 140.  99.  95. 128. 102. 155.\n  80. 145. 103. 110.   0.   0. 158. 181. 132.  26.  84. 260. 162. 182.\n 108. 600. 211. 132. 258. 120.  70. 123.   9. 104. 186. 165. 275. 187.\n 150. 108. 136. 110. 107. 161. 205.  90.  36.  61. 146. 172. 104.  70.\n  94. 106.  56. 205. 292. 142. 260. 110. 187.  88. 180. 192. 350. 155.\n 128. 172. 496.   0. 173. 157. 108.  71.  40. 253. 187. 133.].\nReshape your data either using array.reshape(-1, 1) if your data has a single feature or array.reshape(1, -1) if it contains a single sample.",
     "output_type": "error",
     "traceback": [
      "\u001b[1;31m---------------------------------------------------------------------------\u001b[0m",
      "\u001b[1;31mValueError\u001b[0m                                Traceback (most recent call last)",
      "\u001b[1;32m~\\AppData\\Local\\Temp\\ipykernel_7644\\2101627711.py\u001b[0m in \u001b[0;36m<module>\u001b[1;34m\u001b[0m\n\u001b[0;32m      3\u001b[0m \u001b[1;31m#print(TrainDataAmounts)\u001b[0m\u001b[1;33m\u001b[0m\u001b[1;33m\u001b[0m\u001b[0m\n\u001b[0;32m      4\u001b[0m \u001b[0mTrainDataDefBin\u001b[0m \u001b[1;33m=\u001b[0m \u001b[0mKBinsDiscretizer\u001b[0m\u001b[1;33m(\u001b[0m\u001b[0mn_bins\u001b[0m \u001b[1;33m=\u001b[0m \u001b[1;36m10\u001b[0m\u001b[1;33m,\u001b[0m \u001b[0mstrategy\u001b[0m \u001b[1;33m=\u001b[0m \u001b[1;34m'uniform'\u001b[0m\u001b[1;33m,\u001b[0m \u001b[0mencode\u001b[0m \u001b[1;33m=\u001b[0m \u001b[1;34m'ordinal'\u001b[0m\u001b[1;33m)\u001b[0m\u001b[1;33m\u001b[0m\u001b[1;33m\u001b[0m\u001b[0m\n\u001b[1;32m----> 5\u001b[1;33m \u001b[0mn\u001b[0m \u001b[1;33m=\u001b[0m \u001b[0mTrainDataDefBin\u001b[0m\u001b[1;33m.\u001b[0m\u001b[0mfit\u001b[0m\u001b[1;33m(\u001b[0m\u001b[0mTrainDataAmounts\u001b[0m\u001b[1;33m)\u001b[0m\u001b[1;33m\u001b[0m\u001b[1;33m\u001b[0m\u001b[0m\n\u001b[0m\u001b[0;32m      6\u001b[0m \u001b[0mprint\u001b[0m\u001b[1;33m(\u001b[0m\u001b[0mn\u001b[0m\u001b[1;33m.\u001b[0m\u001b[0mbin_edges_\u001b[0m\u001b[1;33m)\u001b[0m\u001b[1;33m\u001b[0m\u001b[1;33m\u001b[0m\u001b[0m\n",
      "\u001b[1;32mE:\\Downloads\\ANACONDA3\\lib\\site-packages\\sklearn\\preprocessing\\_discretization.py\u001b[0m in \u001b[0;36mfit\u001b[1;34m(self, X, y)\u001b[0m\n\u001b[0;32m    155\u001b[0m             \u001b[0mReturns\u001b[0m \u001b[0mthe\u001b[0m \u001b[0minstance\u001b[0m \u001b[0mitself\u001b[0m\u001b[1;33m.\u001b[0m\u001b[1;33m\u001b[0m\u001b[1;33m\u001b[0m\u001b[0m\n\u001b[0;32m    156\u001b[0m         \"\"\"\n\u001b[1;32m--> 157\u001b[1;33m         \u001b[0mX\u001b[0m \u001b[1;33m=\u001b[0m \u001b[0mself\u001b[0m\u001b[1;33m.\u001b[0m\u001b[0m_validate_data\u001b[0m\u001b[1;33m(\u001b[0m\u001b[0mX\u001b[0m\u001b[1;33m,\u001b[0m \u001b[0mdtype\u001b[0m\u001b[1;33m=\u001b[0m\u001b[1;34m\"numeric\"\u001b[0m\u001b[1;33m)\u001b[0m\u001b[1;33m\u001b[0m\u001b[1;33m\u001b[0m\u001b[0m\n\u001b[0m\u001b[0;32m    158\u001b[0m \u001b[1;33m\u001b[0m\u001b[0m\n\u001b[0;32m    159\u001b[0m         \u001b[0msupported_dtype\u001b[0m \u001b[1;33m=\u001b[0m \u001b[1;33m(\u001b[0m\u001b[0mnp\u001b[0m\u001b[1;33m.\u001b[0m\u001b[0mfloat64\u001b[0m\u001b[1;33m,\u001b[0m \u001b[0mnp\u001b[0m\u001b[1;33m.\u001b[0m\u001b[0mfloat32\u001b[0m\u001b[1;33m)\u001b[0m\u001b[1;33m\u001b[0m\u001b[1;33m\u001b[0m\u001b[0m\n",
      "\u001b[1;32mE:\\Downloads\\ANACONDA3\\lib\\site-packages\\sklearn\\base.py\u001b[0m in \u001b[0;36m_validate_data\u001b[1;34m(self, X, y, reset, validate_separately, **check_params)\u001b[0m\n\u001b[0;32m    564\u001b[0m             \u001b[1;32mraise\u001b[0m \u001b[0mValueError\u001b[0m\u001b[1;33m(\u001b[0m\u001b[1;34m\"Validation should be done on X, y or both.\"\u001b[0m\u001b[1;33m)\u001b[0m\u001b[1;33m\u001b[0m\u001b[1;33m\u001b[0m\u001b[0m\n\u001b[0;32m    565\u001b[0m         \u001b[1;32melif\u001b[0m \u001b[1;32mnot\u001b[0m \u001b[0mno_val_X\u001b[0m \u001b[1;32mand\u001b[0m \u001b[0mno_val_y\u001b[0m\u001b[1;33m:\u001b[0m\u001b[1;33m\u001b[0m\u001b[1;33m\u001b[0m\u001b[0m\n\u001b[1;32m--> 566\u001b[1;33m             \u001b[0mX\u001b[0m \u001b[1;33m=\u001b[0m \u001b[0mcheck_array\u001b[0m\u001b[1;33m(\u001b[0m\u001b[0mX\u001b[0m\u001b[1;33m,\u001b[0m \u001b[1;33m**\u001b[0m\u001b[0mcheck_params\u001b[0m\u001b[1;33m)\u001b[0m\u001b[1;33m\u001b[0m\u001b[1;33m\u001b[0m\u001b[0m\n\u001b[0m\u001b[0;32m    567\u001b[0m             \u001b[0mout\u001b[0m \u001b[1;33m=\u001b[0m \u001b[0mX\u001b[0m\u001b[1;33m\u001b[0m\u001b[1;33m\u001b[0m\u001b[0m\n\u001b[0;32m    568\u001b[0m         \u001b[1;32melif\u001b[0m \u001b[0mno_val_X\u001b[0m \u001b[1;32mand\u001b[0m \u001b[1;32mnot\u001b[0m \u001b[0mno_val_y\u001b[0m\u001b[1;33m:\u001b[0m\u001b[1;33m\u001b[0m\u001b[1;33m\u001b[0m\u001b[0m\n",
      "\u001b[1;32mE:\\Downloads\\ANACONDA3\\lib\\site-packages\\sklearn\\utils\\validation.py\u001b[0m in \u001b[0;36mcheck_array\u001b[1;34m(array, accept_sparse, accept_large_sparse, dtype, order, copy, force_all_finite, ensure_2d, allow_nd, ensure_min_samples, ensure_min_features, estimator)\u001b[0m\n\u001b[0;32m    767\u001b[0m             \u001b[1;31m# If input is 1D raise error\u001b[0m\u001b[1;33m\u001b[0m\u001b[1;33m\u001b[0m\u001b[0m\n\u001b[0;32m    768\u001b[0m             \u001b[1;32mif\u001b[0m \u001b[0marray\u001b[0m\u001b[1;33m.\u001b[0m\u001b[0mndim\u001b[0m \u001b[1;33m==\u001b[0m \u001b[1;36m1\u001b[0m\u001b[1;33m:\u001b[0m\u001b[1;33m\u001b[0m\u001b[1;33m\u001b[0m\u001b[0m\n\u001b[1;32m--> 769\u001b[1;33m                 raise ValueError(\n\u001b[0m\u001b[0;32m    770\u001b[0m                     \u001b[1;34m\"Expected 2D array, got 1D array instead:\\narray={}.\\n\"\u001b[0m\u001b[1;33m\u001b[0m\u001b[1;33m\u001b[0m\u001b[0m\n\u001b[0;32m    771\u001b[0m                     \u001b[1;34m\"Reshape your data either using array.reshape(-1, 1) if \"\u001b[0m\u001b[1;33m\u001b[0m\u001b[1;33m\u001b[0m\u001b[0m\n",
      "\u001b[1;31mValueError\u001b[0m: Expected 2D array, got 1D array instead:\narray=[  0. 128.  66. 120. 141. 267.  95. 158. 168. 349.  70. 109. 200. 114.\n  17. 125. 100.  76. 133. 115. 104. 315. 116. 112. 151. 191. 122. 110.\n  35. 120. 201.  74. 106. 114. 320.   0. 100. 144. 184. 110.  80.  47.\n  75. 134.  96.  88.  44. 144. 120. 144. 100. 120. 112. 134. 286.  97.\n  96. 135. 180. 144. 120.  99. 165.   0. 116. 258. 126. 312. 125. 136.\n 172.  97.  81.  95. 187. 113. 176. 110. 180. 130. 111.   0. 167. 265.\n  50. 136.  99. 104. 210. 175. 131. 188.  81. 122.  25.   0. 137.  50.\n 115. 131. 133. 151.   0.   0. 160. 100. 225. 120. 216.  94. 136. 139.\n 152.   0. 118. 185. 154.  85. 175. 259. 180.  44. 137.  81. 194.  93.\n 370.   0. 160. 182. 650.  74.  70.  25. 102. 290.  84.  88. 242. 129.\n 185. 168. 175. 122. 187. 100.  70.  30. 225. 125. 118. 152. 244. 113.\n  50. 600. 160. 187. 120. 255.  98. 275. 121. 158.  75. 182. 112. 129.\n  63. 200.  95. 700.  81. 187.  87. 116. 101. 495. 116. 102. 180.  67.\n  73. 260. 108. 120.  66.  58. 168. 188.  48. 164. 160.  76. 120. 170.\n 187. 120. 113.  83.  90. 166.   0. 135. 124. 120.  80.  55.  59. 127.\n 214. 128. 240. 130. 137. 100. 135. 131.  72. 127.  60. 116. 144. 175.\n 128. 170. 138. 210. 158. 200. 104.  42. 120. 280. 140. 170. 255. 122.\n 112.  96. 120. 140. 155. 108. 123. 120. 112. 137. 123.  90. 201. 138.\n 104. 279. 192. 255. 115.  94. 304. 128. 330. 134. 155. 120. 128. 151.\n 150. 160. 135.  90.  30. 136. 126. 150.  90. 115. 207.  80. 436. 124.\n 158. 112.  78.  54.   0.  89.  99. 120. 115. 187. 139. 127. 134. 143.\n 172. 110. 200. 135. 151. 113.  93. 105. 132.  96. 140.   0. 135. 104.\n 480. 185.  84. 111.  56. 144. 159. 111. 120.  88. 112. 155. 115. 124.\n   0. 132. 300. 376. 130. 184. 110.  67. 117.  98.  71. 490. 182.  70.\n 160. 176.   0.  71. 173.  46. 158.  74. 125. 160. 152. 126. 259. 187.\n 228. 308.  95. 105. 130. 116. 165.  67. 100. 200.  81. 236. 130.  95.\n 141. 133.  96. 124. 175. 570.  55. 155. 380. 111. 110. 120. 130. 130.\n  71. 130. 128. 296. 156. 128. 100. 113. 132.   0. 136. 125. 185. 275.\n 120. 113. 113. 135.  71.  95. 109. 103.  45.  65. 103.  53. 194. 115.\n 115.  66. 152. 360.  62. 160. 218. 110. 178.  60. 160. 239. 112. 138.\n 138.  80. 100. 110.  96. 121.  81. 133.  87.  60. 150. 105. 405. 143.\n 100.   0.  50.   0. 187. 138. 187. 180. 148. 152. 175. 130. 110.  55.\n 150. 190. 125.  60. 149.  90.  84.  96. 118. 173. 136. 160. 160. 128.\n 153. 132.  98. 140.  70. 110.  98. 110. 162. 113. 100.  93. 162. 150.\n 230. 132.  86.   0. 154. 113. 128. 234. 246. 131.  80. 500. 160.  75.\n  96. 186. 110. 225. 119. 105. 107. 111.  95. 209. 113. 100. 208. 138.\n 124. 243. 480.  96. 188.  40. 100. 250. 148.  70. 311. 150. 113. 123.\n 185.  95.  45.  55. 100. 480.   0. 400. 110. 161.  94. 130. 216. 100.\n 110. 196. 125. 126. 324. 107.  66. 157. 140.  99.  95. 128. 102. 155.\n  80. 145. 103. 110.   0.   0. 158. 181. 132.  26.  84. 260. 162. 182.\n 108. 600. 211. 132. 258. 120.  70. 123.   9. 104. 186. 165. 275. 187.\n 150. 108. 136. 110. 107. 161. 205.  90.  36.  61. 146. 172. 104.  70.\n  94. 106.  56. 205. 292. 142. 260. 110. 187.  88. 180. 192. 350. 155.\n 128. 172. 496.   0. 173. 157. 108.  71.  40. 253. 187. 133.].\nReshape your data either using array.reshape(-1, 1) if your data has a single feature or array.reshape(1, -1) if it contains a single sample."
     ]
    }
   ],
   "source": [
    "#Default bins\n",
    "TrainDataAmounts = TrainData['LoanAmount']\n",
    "#print(TrainDataAmounts)\n",
    "TrainDataDefBin = KBinsDiscretizer(n_bins = 10, strategy = 'uniform', encode = 'ordinal')\n",
    "n = TrainDataDefBin.fit(TrainDataAmounts)\n",
    "print(n.bin_edges_)"
   ]
  },
  {
   "cell_type": "markdown",
   "id": "036e236d",
   "metadata": {},
   "source": [
    "## Regression"
   ]
  },
  {
   "cell_type": "code",
   "execution_count": null,
   "id": "9f135cb1",
   "metadata": {},
   "outputs": [],
   "source": []
  }
 ],
 "metadata": {
  "kernelspec": {
   "display_name": "Python 3 (ipykernel)",
   "language": "python",
   "name": "python3"
  },
  "language_info": {
   "codemirror_mode": {
    "name": "ipython",
    "version": 3
   },
   "file_extension": ".py",
   "mimetype": "text/x-python",
   "name": "python",
   "nbconvert_exporter": "python",
   "pygments_lexer": "ipython3",
   "version": "3.9.13"
  }
 },
 "nbformat": 4,
 "nbformat_minor": 5
}
