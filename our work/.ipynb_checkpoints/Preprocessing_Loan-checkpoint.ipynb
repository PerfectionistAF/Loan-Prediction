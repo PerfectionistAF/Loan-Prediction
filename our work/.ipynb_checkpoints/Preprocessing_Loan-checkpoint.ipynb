{
 "cells": [
  {
   "cell_type": "markdown",
   "id": "f94c431c",
   "metadata": {},
   "source": [
    "# DATA PREPROCESSING SAMPLE FOR LOAN PREDICTION"
   ]
  },
  {
   "cell_type": "markdown",
   "id": "93e63ef9",
   "metadata": {},
   "source": [
    "## DATA CLEANING\n",
    "## Handle Missing Data"
   ]
  },
  {
   "cell_type": "code",
   "execution_count": 68,
   "id": "51388777",
   "metadata": {},
   "outputs": [],
   "source": [
    "import numpy as np\n",
    "import pandas as pd\n",
    "from sklearn.impute import SimpleImputer\n",
    "\n",
    "TrainData = pd.read_csv(\"Train data.csv\", delimiter = ',', header = 0, index_col = 0)\n",
    "#print(TrainData)"
   ]
  },
  {
   "cell_type": "markdown",
   "id": "75527e71",
   "metadata": {},
   "source": [
    "### Identify missing data of both types, numerical and categorical data"
   ]
  },
  {
   "cell_type": "code",
   "execution_count": 69,
   "id": "dbbae929",
   "metadata": {},
   "outputs": [],
   "source": [
    "# 1) For Numerical Data\n",
    "\n",
    "NumericData = TrainData.select_dtypes(exclude = ['object']).columns.tolist()\n",
    "#print(NumericData)\n",
    "\n",
    "#Numerical data with loan id\n",
    "TrainData_n = TrainData[NumericData]\n",
    "#print(TrainData_n, '\\n')\n",
    "\n",
    "\n",
    "#if there are missing values replace with 0\n",
    "# MissingZero = SimpleImputer(missing_values = np.NaN , strategy = 'constant', fill_value = 0)\n",
    "# MissingZero.fit(TrainData_n)\n",
    "# TrainData_n = MissingZero.transform(TrainData_n)\n",
    "#print(TrainData_n)\n",
    "\n",
    "#if there are missing values replace with mean\n",
    "# Note, this method is better than replacing with zeros.\n",
    "MissingStatus1 = SimpleImputer(missing_values = np.NaN , strategy = 'mean')\n",
    "MissingStatus1.fit(TrainData_n)\n",
    "TrainData_n = MissingStatus1.transform(TrainData_n)\n",
    "#print(TrainData_n)"
   ]
  },
  {
   "cell_type": "code",
   "execution_count": 73,
   "id": "6d6b6226",
   "metadata": {},
   "outputs": [
    {
     "name": "stdout",
     "output_type": "stream",
     "text": [
      "before, shape=  (614, 7)\n",
      "after, shape=  (554, 7)\n",
      "percentage of tuples removed:  0.9022801302931596\n"
     ]
    }
   ],
   "source": [
    "# 2) For Categorical Data\n",
    "CategoricData = TrainData.select_dtypes(include = ['object']).columns.tolist()\n",
    "#print(CategoricData)\n",
    "\n",
    "TrainData_c = TrainData[CategoricData]\n",
    "#print(TrainData_c, '\\n')\n",
    "\n",
    "# MissingStatus = SimpleImputer(missing_values = np.NaN , strategy = 'most_frequent')\n",
    "# MissingStatus.fit(TrainData_c)\n",
    "# TrainData_c = MissingStatus.transform(TrainData_c)\n",
    "#print(TrainData_c)\n",
    "\n",
    "#Instead of imputing, we can simply drop the missing values\n",
    "# Filling in the missing data\n",
    "NoMissing_c = TrainData_c.dropna()\n",
    "print(\"before, shape= \", TrainData_c.shape)\n",
    "print(\"after, shape= \", NoMissing_c.shape)\n",
    "print(\"percentage of tuples removed: \", NoMissing_c.shape[0]/TrainData_c.shape[0])"
   ]
  },
  {
   "cell_type": "code",
   "execution_count": 53,
   "id": "63da4cf2",
   "metadata": {},
   "outputs": [
    {
     "name": "stdout",
     "output_type": "stream",
     "text": [
      "          Gender Married Dependents     Education Self_Employed  \\\n",
      "Loan_ID                                                           \n",
      "LP001002    Male      No          0      Graduate            No   \n",
      "LP001003    Male     Yes          1      Graduate            No   \n",
      "LP001005    Male     Yes          0      Graduate           Yes   \n",
      "LP001006    Male     Yes          0  Not Graduate            No   \n",
      "LP001008    Male      No          0      Graduate            No   \n",
      "...          ...     ...        ...           ...           ...   \n",
      "LP002978  Female      No          0      Graduate            No   \n",
      "LP002979    Male     Yes         3+      Graduate            No   \n",
      "LP002983    Male     Yes          1      Graduate            No   \n",
      "LP002984    Male     Yes          2      Graduate            No   \n",
      "LP002990  Female      No          0      Graduate           Yes   \n",
      "\n",
      "          ApplicantIncome  CoapplicantIncome  LoanAmount  Loan_Amount_Term  \\\n",
      "Loan_ID                                                                      \n",
      "LP001002           5849.0                0.0         0.0             360.0   \n",
      "LP001003           4583.0             1508.0       128.0             360.0   \n",
      "LP001005           3000.0                0.0        66.0             360.0   \n",
      "LP001006           2583.0             2358.0       120.0             360.0   \n",
      "LP001008           6000.0                0.0       141.0             360.0   \n",
      "...                   ...                ...         ...               ...   \n",
      "LP002978           2900.0                0.0        71.0             360.0   \n",
      "LP002979           4106.0                0.0        40.0             180.0   \n",
      "LP002983           8072.0              240.0       253.0             360.0   \n",
      "LP002984           7583.0                0.0       187.0             360.0   \n",
      "LP002990           4583.0                0.0       133.0             360.0   \n",
      "\n",
      "          Credit_History Property_Area Loan_Status  \n",
      "Loan_ID                                             \n",
      "LP001002             1.0         Urban           Y  \n",
      "LP001003             1.0         Rural           N  \n",
      "LP001005             1.0         Urban           Y  \n",
      "LP001006             1.0         Urban           Y  \n",
      "LP001008             1.0         Urban           Y  \n",
      "...                  ...           ...         ...  \n",
      "LP002978             1.0         Rural           Y  \n",
      "LP002979             1.0         Rural           Y  \n",
      "LP002983             1.0         Urban           Y  \n",
      "LP002984             1.0         Urban           Y  \n",
      "LP002990             0.0     Semiurban           N  \n",
      "\n",
      "[614 rows x 12 columns]\n",
      "example record:  ['Male' 'No' '0' 'Graduate' 'No' 5849.0 0.0 0.0 360.0 1.0 'Urban' 'Y']\n"
     ]
    }
   ],
   "source": [
    "# Filling in the missing data\n",
    "TrainData[NumericData] = TrainData_n\n",
    "TrainData[CategoricData] = TrainData_c\n",
    "print(TrainData)\n",
    "print(\"example record: \", TrainData.values[0])"
   ]
  },
  {
   "cell_type": "markdown",
   "id": "f1151776",
   "metadata": {},
   "source": [
    "## Handle Noisy Data\n",
    "## Binning By pd.cut"
   ]
  },
  {
   "cell_type": "code",
   "execution_count": 51,
   "id": "156ee269",
   "metadata": {},
   "outputs": [
    {
     "data": {
      "image/png": "[encoded data removed]",
      "text/plain": [
       "<Figure size 640x480 with 5 Axes>"
      ]
     },
     "metadata": {},
     "output_type": "display_data"
    }
   ],
   "source": [
    "import matplotlib.pyplot as plt\n",
    "#Histogram plotting\n",
    "#TrainData.hist()\n",
    "#plt.show()\n",
    "\n",
    "#Density plot (like smooth histogram)\n",
    "#TrainData.plot(kind='density',subplots=True,sharex=False)\n",
    "#plt.show()\n",
    "\n",
    "#Box and Whisker plot\n",
    "TrainData.plot(kind='box',subplots=True,sharex=False,sharey=False)\n",
    "plt.show()"
   ]
  },
  {
   "cell_type": "code",
   "execution_count": 34,
   "id": "c59047ad",
   "metadata": {},
   "outputs": [
    {
     "name": "stdout",
     "output_type": "stream",
     "text": [
      "count      614.000000\n",
      "mean      5403.459283\n",
      "std       6109.041673\n",
      "min        150.000000\n",
      "25%       2877.500000\n",
      "50%       3812.500000\n",
      "75%       5795.000000\n",
      "max      81000.000000\n",
      "Name: ApplicantIncome, dtype: float64\n"
     ]
    }
   ],
   "source": [
    "#Bin by Applicant Income, Coapplicant Income, Loan Amount\n",
    "print(TrainData['ApplicantIncome'].describe())\n",
    "#ApplicantIncomeCut = pd.cut(TrainData.iloc[:, 5], 4)\n",
    "#print(ApplicantIncomeCut)"
   ]
  },
  {
   "cell_type": "code",
   "execution_count": 35,
   "id": "7096caa7",
   "metadata": {},
   "outputs": [
    {
     "name": "stdout",
     "output_type": "stream",
     "text": [
      "(69.0, 8235.0]        533\n",
      "(8235.0, 16320.0]      59\n",
      "(16320.0, 24405.0]     15\n",
      "(24405.0, 32490.0]      0\n",
      "(32490.0, 40575.0]      4\n",
      "(40575.0, 48660.0]      0\n",
      "(48660.0, 56745.0]      1\n",
      "(56745.0, 64830.0]      1\n",
      "(64830.0, 72915.0]      0\n",
      "(72915.0, 81000.0]      1\n",
      "Name: ApplicantIncome, dtype: int64\n"
     ]
    }
   ],
   "source": [
    "Bins = 10\n",
    "ApplicantIncomeBinSize = (81000 - 150)/Bins\n",
    "print(pd.cut(TrainData['ApplicantIncome'], Bins, precision = 0).value_counts(sort=False))"
   ]
  },
  {
   "cell_type": "code",
   "execution_count": 36,
   "id": "16d4c5d8",
   "metadata": {},
   "outputs": [],
   "source": [
    "TrainData['ApplicantIncome_Bin'] = pd.cut(TrainData['ApplicantIncome'], Bins, labels = False)\n",
    "#print(TrainData.head())                                          "
   ]
  },
  {
   "cell_type": "code",
   "execution_count": 37,
   "id": "0f111640",
   "metadata": {},
   "outputs": [
    {
     "name": "stdout",
     "output_type": "stream",
     "text": [
      "count      614.000000\n",
      "mean      1621.245798\n",
      "std       2926.248369\n",
      "min          0.000000\n",
      "25%          0.000000\n",
      "50%       1188.500000\n",
      "75%       2297.250000\n",
      "max      41667.000000\n",
      "Name: CoapplicantIncome, dtype: float64\n"
     ]
    }
   ],
   "source": [
    "print(TrainData['CoapplicantIncome'].describe())"
   ]
  },
  {
   "cell_type": "code",
   "execution_count": 38,
   "id": "881893a9",
   "metadata": {},
   "outputs": [
    {
     "name": "stdout",
     "output_type": "stream",
     "text": [
      "count    614.000000\n",
      "mean     141.166124\n",
      "std       88.340630\n",
      "min        0.000000\n",
      "25%       98.000000\n",
      "50%      125.000000\n",
      "75%      164.750000\n",
      "max      700.000000\n",
      "Name: LoanAmount, dtype: float64\n"
     ]
    }
   ],
   "source": [
    "print(TrainData['LoanAmount'].describe())"
   ]
  },
  {
   "cell_type": "markdown",
   "id": "0a27577d",
   "metadata": {},
   "source": [
    "## Binning By Feature Engine"
   ]
  },
  {
   "cell_type": "code",
   "execution_count": 39,
   "id": "080e7fc4",
   "metadata": {},
   "outputs": [
    {
     "ename": "ModuleNotFoundError",
     "evalue": "No module named 'feature_engine'",
     "output_type": "error",
     "traceback": [
      "\u001b[1;31m---------------------------------------------------------------------------\u001b[0m",
      "\u001b[1;31mModuleNotFoundError\u001b[0m                       Traceback (most recent call last)",
      "\u001b[1;32m~\\AppData\\Local\\Temp\\ipykernel_5684\\2507174051.py\u001b[0m in \u001b[0;36m<module>\u001b[1;34m\u001b[0m\n\u001b[1;32m----> 1\u001b[1;33m \u001b[1;32mfrom\u001b[0m \u001b[0mfeature_engine\u001b[0m\u001b[1;33m.\u001b[0m\u001b[0mdiscretisation\u001b[0m \u001b[1;32mimport\u001b[0m \u001b[0mEqualWidthDiscretiser\u001b[0m\u001b[1;33m\u001b[0m\u001b[1;33m\u001b[0m\u001b[0m\n\u001b[0m",
      "\u001b[1;31mModuleNotFoundError\u001b[0m: No module named 'feature_engine'"
     ]
    }
   ],
   "source": [
    "from feature_engine.discretisation import EqualWidthDiscretiser"
   ]
  },
  {
   "cell_type": "code",
   "execution_count": null,
   "id": "af4abfc2",
   "metadata": {},
   "outputs": [],
   "source": [
    "#Bin by Applicant Income, Coapplicant Income, Loan Amount\n",
    "ApplicantIncomeFE = EqualWidthDiscretiser(bins=10, return_object = True, return_boundaries = True)\n",
    "#ApplicantIncomeFE.fit(TrainData)\n",
    "#ApplicantIncomeFE.transform(TrainData)[\"ApplicantIncome_b\"].value_counts()\n",
    "#ApplicantIncomeFE = EqualWidthDiscretiser()\n",
    "#print(ApplicantIncomeFE)\n",
    "ApplicantIncomeFE.fit(TrainData)\n",
    "ApplicantIncomeFE.transform(TrainData)[\"ApplicantIncome\"].value_counts()"
   ]
  },
  {
   "cell_type": "code",
   "execution_count": null,
   "id": "c52ede23",
   "metadata": {},
   "outputs": [],
   "source": [
    "CoapplicantIncomeFE = EqualWidthDiscretiser(bins=10, return_object = True, return_boundaries = True)\n",
    "CoapplicantIncomeFE.fit(TrainData)\n",
    "CoapplicantIncomeFE.transform(TrainData)[\"CoapplicantIncome\"].value_counts()"
   ]
  },
  {
   "cell_type": "code",
   "execution_count": null,
   "id": "778b695f",
   "metadata": {},
   "outputs": [],
   "source": [
    "LoanAmountFE = EqualWidthDiscretiser(bins=10, return_object = True, return_boundaries = True)\n",
    "LoanAmountFE.fit(TrainData)\n",
    "LoanAmountFE.transform(TrainData)[\"LoanAmount\"].value_counts()"
   ]
  },
  {
   "cell_type": "markdown",
   "id": "dd4a9a1b",
   "metadata": {},
   "source": [
    "## Binning By KBinsDiscretizer "
   ]
  },
  {
   "cell_type": "code",
   "execution_count": 42,
   "id": "f1a5a6b6",
   "metadata": {},
   "outputs": [],
   "source": [
    "from sklearn.preprocessing import KBinsDiscretizer"
   ]
  },
  {
   "cell_type": "code",
   "execution_count": 43,
   "id": "f8b84a7f",
   "metadata": {},
   "outputs": [
    {
     "name": "stdout",
     "output_type": "stream",
     "text": [
      "          ApplicantIncome  CoapplicantIncome  LoanAmount  Loan_Amount_Term  \\\n",
      "Loan_ID                                                                      \n",
      "LP001002           5849.0                0.0         0.0             360.0   \n",
      "LP001003           4583.0             1508.0       128.0             360.0   \n",
      "LP001005           3000.0                0.0        66.0             360.0   \n",
      "LP001006           2583.0             2358.0       120.0             360.0   \n",
      "LP001008           6000.0                0.0       141.0             360.0   \n",
      "...                   ...                ...         ...               ...   \n",
      "LP002978           2900.0                0.0        71.0             360.0   \n",
      "LP002979           4106.0                0.0        40.0             180.0   \n",
      "LP002983           8072.0              240.0       253.0             360.0   \n",
      "LP002984           7583.0                0.0       187.0             360.0   \n",
      "LP002990           4583.0                0.0       133.0             360.0   \n",
      "\n",
      "          Credit_History  \n",
      "Loan_ID                   \n",
      "LP001002             1.0  \n",
      "LP001003             1.0  \n",
      "LP001005             1.0  \n",
      "LP001006             1.0  \n",
      "LP001008             1.0  \n",
      "...                  ...  \n",
      "LP002978             1.0  \n",
      "LP002979             1.0  \n",
      "LP002983             1.0  \n",
      "LP002984             1.0  \n",
      "LP002990             0.0  \n",
      "\n",
      "[614 rows x 5 columns]\n",
      "[array([  150.,  8235., 16320., 24405., 32490., 40575., 48660., 56745.,\n",
      "        64830., 72915., 81000.])\n",
      " array([    0. ,  4166.7,  8333.4, 12500.1, 16666.8, 20833.5, 25000.2,\n",
      "        29166.9, 33333.6, 37500.3, 41667. ])\n",
      " array([  0.,  70., 140., 210., 280., 350., 420., 490., 560., 630., 700.])\n",
      " array([  0.,  48.,  96., 144., 192., 240., 288., 336., 384., 432., 480.])\n",
      " array([0. , 0.1, 0.2, 0.3, 0.4, 0.5, 0.6, 0.7, 0.8, 0.9, 1. ])]\n"
     ]
    }
   ],
   "source": [
    "#Default bins\n",
    "TrainDataAmounts = TrainData[NumericData]\n",
    "print(TrainDataAmounts)\n",
    "TrainDataEqual = KBinsDiscretizer(n_bins = 10, strategy = 'uniform', encode = 'ordinal')\n",
    "n = TrainDataEqual.fit(TrainDataAmounts)\n",
    "print(n.bin_edges_)"
   ]
  },
  {
   "cell_type": "code",
   "execution_count": 44,
   "id": "134c38ff",
   "metadata": {},
   "outputs": [
    {
     "name": "stdout",
     "output_type": "stream",
     "text": [
      "          ApplicantIncome  CoapplicantIncome  LoanAmount  Loan_Amount_Term  \\\n",
      "Loan_ID                                                                      \n",
      "LP001002           5849.0                0.0         0.0             360.0   \n",
      "LP001003           4583.0             1508.0       128.0             360.0   \n",
      "LP001005           3000.0                0.0        66.0             360.0   \n",
      "LP001006           2583.0             2358.0       120.0             360.0   \n",
      "LP001008           6000.0                0.0       141.0             360.0   \n",
      "...                   ...                ...         ...               ...   \n",
      "LP002978           2900.0                0.0        71.0             360.0   \n",
      "LP002979           4106.0                0.0        40.0             180.0   \n",
      "LP002983           8072.0              240.0       253.0             360.0   \n",
      "LP002984           7583.0                0.0       187.0             360.0   \n",
      "LP002990           4583.0                0.0       133.0             360.0   \n",
      "\n",
      "          Credit_History  \n",
      "Loan_ID                   \n",
      "LP001002             1.0  \n",
      "LP001003             1.0  \n",
      "LP001005             1.0  \n",
      "LP001006             1.0  \n",
      "LP001008             1.0  \n",
      "...                  ...  \n",
      "LP002978             1.0  \n",
      "LP002979             1.0  \n",
      "LP002983             1.0  \n",
      "LP002984             1.0  \n",
      "LP002990             0.0  \n",
      "\n",
      "[614 rows x 5 columns]\n",
      "[array([  150. ,  2216.1,  2605.4,  3050.4,  3406.8,  3812.5,  4343.6,\n",
      "         5185.6,  6252.4,  9459.9, 81000. ])\n",
      " array([    0. ,  1188.5,  1689.6,  2083. ,  2535. ,  3782.2, 41667. ])\n",
      " array([  0. ,  63.6,  90. , 104. , 113. , 125. , 136. , 155. , 180. ,\n",
      "        229.4, 700. ])\n",
      " array([  0., 180., 360., 480.]) array([0., 1.])]\n"
     ]
    },
    {
     "name": "stderr",
     "output_type": "stream",
     "text": [
      "D:\\My Applications\\anaconda3\\lib\\site-packages\\sklearn\\preprocessing\\_discretization.py:230: UserWarning: Bins whose width are too small (i.e., <= 1e-8) in feature 1 are removed. Consider decreasing the number of bins.\n",
      "  warnings.warn(\n",
      "D:\\My Applications\\anaconda3\\lib\\site-packages\\sklearn\\preprocessing\\_discretization.py:230: UserWarning: Bins whose width are too small (i.e., <= 1e-8) in feature 3 are removed. Consider decreasing the number of bins.\n",
      "  warnings.warn(\n",
      "D:\\My Applications\\anaconda3\\lib\\site-packages\\sklearn\\preprocessing\\_discretization.py:230: UserWarning: Bins whose width are too small (i.e., <= 1e-8) in feature 4 are removed. Consider decreasing the number of bins.\n",
      "  warnings.warn(\n"
     ]
    }
   ],
   "source": [
    "#Default bins\n",
    "TrainDataAmounts = TrainData[NumericData]\n",
    "print(TrainDataAmounts)\n",
    "TrainDataEqual = KBinsDiscretizer(n_bins = 10, strategy = 'quantile', encode = 'ordinal')\n",
    "n = TrainDataEqual.fit(TrainDataAmounts)\n",
    "print(n.bin_edges_)"
   ]
  },
  {
   "cell_type": "markdown",
   "id": "6b85c8f9",
   "metadata": {},
   "source": [
    "## Single Linear Regression"
   ]
  },
  {
   "cell_type": "code",
   "execution_count": 45,
   "id": "ce33bd78",
   "metadata": {},
   "outputs": [],
   "source": [
    "import numpy as np\n",
    "import pandas as pd\n",
    "\n",
    "x = TrainData['ApplicantIncome']\n",
    "y = TrainData['ApplicantIncome']"
   ]
  },
  {
   "cell_type": "code",
   "execution_count": 46,
   "id": "7f30f280",
   "metadata": {},
   "outputs": [
    {
     "name": "stdout",
     "output_type": "stream",
     "text": [
      "ApplicantIncomeMean:  5403.459283387622 \n",
      "\n",
      "LoanAmountMean:  141.16612377850163 \n",
      "\n"
     ]
    }
   ],
   "source": [
    "#Linear Regression of ApplicantIncome and LoanAmount\n",
    "ApplicantIncomeMean = sum(TrainData['ApplicantIncome'])/614\n",
    "LoanAmountMean = sum(TrainData['LoanAmount'])/614\n",
    "print(\"ApplicantIncomeMean: \", ApplicantIncomeMean,'\\n')\n",
    "print(\"LoanAmountMean: \", LoanAmountMean, '\\n')"
   ]
  },
  {
   "cell_type": "code",
   "execution_count": 47,
   "id": "46aaa46e",
   "metadata": {},
   "outputs": [
    {
     "name": "stdout",
     "output_type": "stream",
     "text": [
      "SSx:   22877399172.482 \n",
      "\n",
      "SPxy:   22877399172.482 \n",
      "\n"
     ]
    }
   ],
   "source": [
    "xxtotal = 0\n",
    "xytotal = 0\n",
    "for i in range(614):\n",
    "    xdiff = (x[i] - ApplicantIncomeMean)**2\n",
    "    #print(\"x:\", xdiff)\n",
    "    xxtotal = xxtotal + xdiff\n",
    "    ydiff = (x[i] - ApplicantIncomeMean) * (y[i] - LoanAmountMean)\n",
    "    #print(\"y:\", ydiff)\n",
    "    xytotal = xytotal + ydiff\n",
    "\n",
    "#Sumxx = np.sum(xdiff, axis = 0, keepdims = True)\n",
    "#Sumxy = np.sum(ydiff, axis = 0, keepdims = True)\n",
    "print(\"SSx: \", \"{0: .3f}\".format(xxtotal), '\\n')\n",
    "print(\"SPxy: \", \"{0: .3f}\".format(xytotal), '\\n')"
   ]
  },
  {
   "cell_type": "code",
   "execution_count": 48,
   "id": "ebde2b6b",
   "metadata": {},
   "outputs": [
    {
     "name": "stdout",
     "output_type": "stream",
     "text": [
      "Slope:   1.000 \n",
      "\n",
      "Intercept:  -5262.293 \n",
      "\n",
      "y =  1.000000000000002 x +  -5262.293159609131 \n",
      "\n"
     ]
    }
   ],
   "source": [
    "slope = xytotal / xxtotal\n",
    "print(\"Slope: \", \"{0: .3f}\".format(slope), '\\n')\n",
    "intercept = LoanAmountMean - (slope * ApplicantIncomeMean)\n",
    "print(\"Intercept: \", \"{0: .3f}\".format(intercept), '\\n')\n",
    "print(\"y = \", slope, \"x + \", intercept, '\\n')"
   ]
  },
  {
   "cell_type": "code",
   "execution_count": 49,
   "id": "651d3aff",
   "metadata": {},
   "outputs": [],
   "source": [
    "predicted = []\n",
    "residual = []\n",
    "#residual = predicted - actual\n",
    "for p in range(len(x)):\n",
    "    #predicted = slope * (x[p]) + intercept\n",
    "    predicted.append(slope * (x[p]) + intercept)\n",
    "    residual.append(predicted[p] - y[p])\n",
    "    #print(\"x:\", x[p],\" y:\", y[p], \"predicted:\", \"{0: .2f}\".format(predicted[p]), \"residual:\", \"{0: .2f}\".format(residual[p]))\n",
    "\n",
    "#residual = predicted[p] - y[p]\n",
    "#residual.append(predicted - y[p])"
   ]
  },
  {
   "cell_type": "code",
   "execution_count": 50,
   "id": "48b6484d",
   "metadata": {},
   "outputs": [],
   "source": [
    "from sklearn.datasets import make_blobs\n",
    "import matplotlib.pyplot as plt\n",
    "from sklearn import svm\n",
    "from sklearn.datasets import make_blobs\n",
    "import numpy as np\n",
    "from numpy import ndarray\n",
    "from numpy.linalg import eig"
   ]
  },
  {
   "cell_type": "code",
   "execution_count": 51,
   "id": "333f038e",
   "metadata": {},
   "outputs": [
    {
     "data": {
      "image/png": "[encoded data removed]",
      "text/plain": [
       "<Figure size 800x800 with 1 Axes>"
      ]
     },
     "metadata": {},
     "output_type": "display_data"
    }
   ],
   "source": [
    "plt.figure(figsize=(8, 8))\n",
    "plt.scatter(x, y, color = \"black\", alpha = 0.5, s = 10)\n",
    "plt.plot(x, predicted, color = \"red\")\n",
    "plt.margins(x = 0, y = 0) \n",
    "plt.grid()\n",
    "plt.axis('equal')\n",
    "plt.show()"
   ]
  },
  {
   "cell_type": "code",
   "execution_count": 52,
   "id": "4a76a47e",
   "metadata": {},
   "outputs": [
    {
     "data": {
      "image/png": "[encoded data removed]",
      "text/plain": [
       "<Figure size 600x600 with 1 Axes>"
      ]
     },
     "metadata": {},
     "output_type": "display_data"
    },
    {
     "data": {
      "text/plain": [
       "<matplotlib.collections.PathCollection at 0x212d3a3b490>"
      ]
     },
     "execution_count": 52,
     "metadata": {},
     "output_type": "execute_result"
    },
    {
     "data": {
      "image/png": "[encoded data removed]",
      "text/plain": [
       "<Figure size 500x500 with 1 Axes>"
      ]
     },
     "metadata": {},
     "output_type": "display_data"
    }
   ],
   "source": [
    "import matplotlib.pyplot as plt\n",
    "import numpy as np\n",
    "#DOWNLOAD PLOTTOOLS VIA CMD PROMPT:::import plottools\n",
    "\n",
    "standardised_residuals = residual / np.std(residual)\n",
    "#print(standardised_residuals)\n",
    "plt.figure(figsize=(6,6))\n",
    "plt.scatter(x, residual, color = \"orange\", alpha = 0.5 , s = 10)\n",
    "plt.grid()\n",
    "plt.xlabel('Applicant Income')\n",
    "plt.ylabel('Loan Amount')\n",
    "#plt.margins(x = 0, y = 0) \n",
    "plt.axis('auto')\n",
    "plt.show()\n",
    "\n",
    "#Sample points from the above graph \n",
    "def select_subset(seq, size):\n",
    "    return seq[:size]\n",
    "\n",
    "plt.rcParams[\"figure.figsize\"] = [5, 5]\n",
    "plt.rcParams[\"figure.autolayout\"] = True\n",
    "\n",
    "Xi_sample = [select_subset(x, 100)]\n",
    "Yi_sample = [select_subset(residual, 100)]\n",
    "plt.xlabel('Applicant Income')\n",
    "plt.ylabel('Loan Amount')\n",
    "plt.scatter(Xi_sample, \n",
    "            Yi_sample, \n",
    "            marker=\"o\", color=\"blue\", alpha = 0.5 , s = 50)"
   ]
  },
  {
   "cell_type": "code",
   "execution_count": 53,
   "id": "7d9cada6",
   "metadata": {},
   "outputs": [
    {
     "data": {
      "text/plain": [
       "'fig,ax = plt.subplots(6,6)\\nax.plot(x, residual)\\nax_zoom = plottools.zoom_axes(fig,ax,[0,20000],[-1.0,-0.8],[40000,-0.8],[40000,-0.8])\\nax_zoom.plot(x,y)\\nplt.show()'"
      ]
     },
     "execution_count": 53,
     "metadata": {},
     "output_type": "execute_result"
    }
   ],
   "source": [
    "'''fig,ax = plt.subplots(6,6)\n",
    "ax.plot(x, residual)\n",
    "ax_zoom = plottools.zoom_axes(fig,ax,[0,20000],[-1.0,-0.8],[40000,-0.8],[40000,-0.8])\n",
    "ax_zoom.plot(x,y)\n",
    "plt.show()'''"
   ]
  },
  {
   "cell_type": "markdown",
   "id": "664dab99",
   "metadata": {},
   "source": [
    "## Multilinear Regression : Dependents and Property and Income VS Loan Amount"
   ]
  },
  {
   "cell_type": "code",
   "execution_count": 54,
   "id": "ecde74c9",
   "metadata": {},
   "outputs": [],
   "source": [
    "#X = TrainData[['Dependents','Property_Area','ApplicantIncome']]\n",
    "X = TrainData[['ApplicantIncome', 'CoapplicantIncome']]\n",
    "Y = TrainData['LoanAmount']"
   ]
  },
  {
   "cell_type": "code",
   "execution_count": 55,
   "id": "cabe4f9b",
   "metadata": {},
   "outputs": [],
   "source": [
    "from sklearn import linear_model"
   ]
  },
  {
   "cell_type": "code",
   "execution_count": 56,
   "id": "f3300c51",
   "metadata": {},
   "outputs": [
    {
     "data": {
      "text/plain": [
       "LinearRegression()"
      ]
     },
     "execution_count": 56,
     "metadata": {},
     "output_type": "execute_result"
    }
   ],
   "source": [
    "MultiReg = linear_model.LinearRegression()\n",
    "MultiReg.fit(X, Y)"
   ]
  },
  {
   "cell_type": "code",
   "execution_count": 57,
   "id": "d1d55269",
   "metadata": {},
   "outputs": [
    {
     "name": "stdout",
     "output_type": "stream",
     "text": [
      "[102.49516573]\n",
      "[118.45944088]\n",
      "[134.42371604]\n",
      "[150.38799119]\n",
      "[166.35226635]\n",
      "[182.3165415]\n"
     ]
    },
    {
     "name": "stderr",
     "output_type": "stream",
     "text": [
      "D:\\My Applications\\anaconda3\\lib\\site-packages\\sklearn\\base.py:450: UserWarning: X does not have valid feature names, but LinearRegression was fitted with feature names\n",
      "  warnings.warn(\n",
      "D:\\My Applications\\anaconda3\\lib\\site-packages\\sklearn\\base.py:450: UserWarning: X does not have valid feature names, but LinearRegression was fitted with feature names\n",
      "  warnings.warn(\n",
      "D:\\My Applications\\anaconda3\\lib\\site-packages\\sklearn\\base.py:450: UserWarning: X does not have valid feature names, but LinearRegression was fitted with feature names\n",
      "  warnings.warn(\n",
      "D:\\My Applications\\anaconda3\\lib\\site-packages\\sklearn\\base.py:450: UserWarning: X does not have valid feature names, but LinearRegression was fitted with feature names\n",
      "  warnings.warn(\n",
      "D:\\My Applications\\anaconda3\\lib\\site-packages\\sklearn\\base.py:450: UserWarning: X does not have valid feature names, but LinearRegression was fitted with feature names\n",
      "  warnings.warn(\n",
      "D:\\My Applications\\anaconda3\\lib\\site-packages\\sklearn\\base.py:450: UserWarning: X does not have valid feature names, but LinearRegression was fitted with feature names\n",
      "  warnings.warn(\n"
     ]
    }
   ],
   "source": [
    "LoanPredicted = MultiReg.predict([[1000, 1300]])\n",
    "print(LoanPredicted)\n",
    "LoanPredicted = MultiReg.predict([[2000, 2300]])\n",
    "print(LoanPredicted)\n",
    "LoanPredicted = MultiReg.predict([[3000, 3300]])\n",
    "print(LoanPredicted)\n",
    "LoanPredicted = MultiReg.predict([[4000, 4300]])\n",
    "print(LoanPredicted)\n",
    "LoanPredicted = MultiReg.predict([[5000, 5300]])\n",
    "print(LoanPredicted)\n",
    "LoanPredicted = MultiReg.predict([[6000, 6300]])\n",
    "print(LoanPredicted)"
   ]
  },
  {
   "cell_type": "markdown",
   "id": "f3c13592",
   "metadata": {},
   "source": [
    "## Clustering By KMeans"
   ]
  },
  {
   "cell_type": "code",
   "execution_count": 58,
   "id": "ac12d4f7",
   "metadata": {},
   "outputs": [],
   "source": [
    "import numpy as np\n",
    "import pandas as pd"
   ]
  },
  {
   "cell_type": "code",
   "execution_count": 59,
   "id": "911922b6",
   "metadata": {},
   "outputs": [
    {
     "name": "stdout",
     "output_type": "stream",
     "text": [
      "          Gender Married Dependents     Education Self_Employed  \\\n",
      "Loan_ID                                                           \n",
      "LP001002    Male      No          0      Graduate            No   \n",
      "LP001003    Male     Yes          1      Graduate            No   \n",
      "LP001005    Male     Yes          0      Graduate           Yes   \n",
      "LP001006    Male     Yes          0  Not Graduate            No   \n",
      "LP001008    Male      No          0      Graduate            No   \n",
      "...          ...     ...        ...           ...           ...   \n",
      "LP002978  Female      No          0      Graduate            No   \n",
      "LP002979    Male     Yes         3+      Graduate            No   \n",
      "LP002983    Male     Yes          1      Graduate            No   \n",
      "LP002984    Male     Yes          2      Graduate            No   \n",
      "LP002990  Female      No          0      Graduate           Yes   \n",
      "\n",
      "          ApplicantIncome  CoapplicantIncome  LoanAmount  Loan_Amount_Term  \\\n",
      "Loan_ID                                                                      \n",
      "LP001002             5849                0.0         NaN             360.0   \n",
      "LP001003             4583             1508.0       128.0             360.0   \n",
      "LP001005             3000                0.0        66.0             360.0   \n",
      "LP001006             2583             2358.0       120.0             360.0   \n",
      "LP001008             6000                0.0       141.0             360.0   \n",
      "...                   ...                ...         ...               ...   \n",
      "LP002978             2900                0.0        71.0             360.0   \n",
      "LP002979             4106                0.0        40.0             180.0   \n",
      "LP002983             8072              240.0       253.0             360.0   \n",
      "LP002984             7583                0.0       187.0             360.0   \n",
      "LP002990             4583                0.0       133.0             360.0   \n",
      "\n",
      "          Credit_History Property_Area Loan_Status  \n",
      "Loan_ID                                             \n",
      "LP001002             1.0         Urban           Y  \n",
      "LP001003             1.0         Rural           N  \n",
      "LP001005             1.0         Urban           Y  \n",
      "LP001006             1.0         Urban           Y  \n",
      "LP001008             1.0         Urban           Y  \n",
      "...                  ...           ...         ...  \n",
      "LP002978             1.0         Rural           Y  \n",
      "LP002979             1.0         Rural           Y  \n",
      "LP002983             1.0         Urban           Y  \n",
      "LP002984             1.0         Urban           Y  \n",
      "LP002990             0.0     Semiurban           N  \n",
      "\n",
      "[614 rows x 12 columns]\n"
     ]
    }
   ],
   "source": [
    "TrainDataK = pd.read_csv(\"Train Data.csv\", delimiter = ',', header = 0, index_col = \"Loan_ID\")\n",
    "print(TrainDataK)"
   ]
  },
  {
   "cell_type": "code",
   "execution_count": 60,
   "id": "962ceeca",
   "metadata": {},
   "outputs": [],
   "source": [
    "from sklearn.cluster import KMeans\n",
    "from sklearn.preprocessing import LabelEncoder"
   ]
  },
  {
   "cell_type": "code",
   "execution_count": 61,
   "id": "366054cb",
   "metadata": {},
   "outputs": [],
   "source": [
    "KMeanEncoder = LabelEncoder()\n",
    "\n",
    "KMeanEncoder.fit(TrainDataK[\"LoanAmount\"])\n",
    "TrainDataK[\"LoanAmount\"] = KMeanEncoder.transform(TrainDataK[\"LoanAmount\"])\n",
    "KMeanEncoder.fit(TrainDataK[\"Gender\"])\n",
    "TrainDataK[\"Gender\"] = KMeanEncoder.transform(TrainDataK[\"Gender\"])\n",
    "KMeanEncoder.fit(TrainDataK[\"Married\"])\n",
    "TrainDataK[\"Married\"] = KMeanEncoder.transform(TrainDataK[\"Married\"])\n",
    "KMeanEncoder.fit(TrainDataK[\"Dependents\"])\n",
    "TrainDataK[\"Dependents\"] = KMeanEncoder.transform(TrainDataK[\"Dependents\"])\n",
    "KMeanEncoder.fit(TrainDataK[\"Education\"])\n",
    "TrainDataK[\"Education\"] = KMeanEncoder.transform(TrainDataK[\"Education\"])\n",
    "\n",
    "KMeanEncoder.fit(TrainDataK[\"Self_Employed\"])\n",
    "TrainDataK[\"Self_Employed\"] = KMeanEncoder.transform(TrainDataK[\"Self_Employed\"])\n",
    "KMeanEncoder.fit(TrainDataK[\"ApplicantIncome\"])\n",
    "TrainDataK[\"ApplicantIncome\"] = KMeanEncoder.transform(TrainDataK[\"ApplicantIncome\"])\n",
    "KMeanEncoder.fit(TrainDataK[\"CoapplicantIncome\"])\n",
    "TrainDataK[\"CoapplicantIncome\"] = KMeanEncoder.transform(TrainDataK[\"CoapplicantIncome\"])\n",
    "KMeanEncoder.fit(TrainDataK[\"Loan_Amount_Term\"])\n",
    "TrainDataK[\"Loan_Amount_Term\"] = KMeanEncoder.transform(TrainDataK[\"Loan_Amount_Term\"])\n",
    "KMeanEncoder.fit(TrainDataK[\"Credit_History\"])\n",
    "TrainDataK[\"Credit_History\"] = KMeanEncoder.transform(TrainDataK[\"Credit_History\"])\n",
    "KMeanEncoder.fit(TrainDataK[\"Property_Area\"])\n",
    "TrainDataK[\"Property_Area\"] = KMeanEncoder.transform(TrainDataK[\"Property_Area\"])\n",
    "KMeanEncoder.fit(TrainDataK[\"Loan_Status\"])\n",
    "TrainDataK[\"Loan_Status\"] = KMeanEncoder.transform(TrainDataK[\"Loan_Status\"])"
   ]
  },
  {
   "cell_type": "code",
   "execution_count": 62,
   "id": "ffe63efa",
   "metadata": {},
   "outputs": [
    {
     "name": "stdout",
     "output_type": "stream",
     "text": [
      "[1 4 0 2 1 3 0 2 4 3 0 0 2 2 0 4 4 4 4 2 1 3 0 2 3 1 2 4 0 4 3 0 4 4 3 2 0\n",
      " 4 3 4 4 0 0 3 4 4 4 1 2 3 0 0 4 4 1 0 0 2 3 2 2 0 2 1 4 3 2 1 1 4 2 0 4 4\n",
      " 1 4 3 2 2 2 4 0 0 3 4 2 2 2 1 3 2 3 0 4 4 1 2 0 4 2 3 3 1 3 4 0 1 1 3 0 4\n",
      " 2 2 1 4 1 2 0 3 1 3 4 2 0 3 4 1 4 3 3 1 0 0 4 4 3 4 2 1 4 3 1 1 2 1 2 1 0\n",
      " 1 4 1 2 1 0 0 1 1 1 2 3 0 1 0 4 1 3 4 2 0 1 0 1 4 3 4 4 0 3 4 0 3 2 4 1 4\n",
      " 3 0 2 2 1 4 1 1 4 4 2 3 2 2 1 2 4 4 4 4 4 0 3 0 4 1 4 1 1 2 4 0 4 4 3 0 4\n",
      " 2 1 1 4 4 1 4 1 2 4 2 1 0 1 1 4 4 4 3 2 2 1 2 3 1 1 0 0 2 4 2 2 1 0 1 4 1\n",
      " 4 3 2 4 1 4 3 4 4 4 0 0 1 0 2 4 0 3 0 1 4 3 4 0 0 1 2 0 4 4 1 2 4 0 1 2 4\n",
      " 1 4 3 2 2 0 4 0 3 0 4 0 1 1 0 2 0 1 0 4 4 2 4 1 2 4 4 2 1 3 4 3 3 0 4 0 0\n",
      " 1 1 3 1 2 0 4 0 0 4 0 2 2 2 2 3 2 1 3 2 4 0 4 3 4 0 3 4 3 3 2 1 1 0 4 1 3\n",
      " 1 4 3 2 0 4 3 4 0 4 2 3 1 1 4 4 0 2 2 4 1 1 2 0 0 4 0 0 4 0 0 0 2 0 1 4 2\n",
      " 0 1 1 4 1 1 2 2 0 0 2 2 0 1 0 0 1 1 2 4 1 0 0 1 1 1 2 4 1 0 0 1 1 3 1 3 1\n",
      " 3 4 4 4 4 0 0 0 4 2 1 4 4 3 4 1 2 1 2 4 4 1 0 1 2 3 2 0 4 0 3 1 1 0 1 0 4\n",
      " 0 2 1 1 2 4 1 3 0 2 1 4 1 2 4 0 3 0 3 2 0 3 3 4 2 3 4 2 1 4 3 2 2 3 2 0 0\n",
      " 3 4 0 0 4 3 3 1 4 1 0 1 2 4 4 1 1 2 3 4 0 1 3 0 4 2 0 2 4 0 4 2 1 2 2 2 2\n",
      " 4 0 1 3 3 4 1 3 1 1 4 4 2 0 2 4 4 1 1 1 0 2 2 2 2 1 2 0 0 2 3 0 0 4 0 2 1\n",
      " 1 3 1 4 1 0 1 1 2 2 1 3 1 2 2 4 2 0 4 1 1 4] \n",
      "\n",
      "[[7.41935484e-01 5.72580645e-01 8.30645161e-01 3.06451613e-01\n",
      "  1.20967742e-01 9.12822581e+01 3.76209677e+01 5.40564516e+01\n",
      "  7.84677419e+00 8.87096774e-01 1.28225806e+00 6.61290323e-01]\n",
      " [8.89705882e-01 6.69117647e-01 9.92647059e-01 1.39705882e-01\n",
      "  3.82352941e-01 4.30992647e+02 9.08823529e+00 1.28227941e+02\n",
      "  7.67647059e+00 9.33823529e-01 1.05882353e+00 7.05882353e-01]\n",
      " [9.25619835e-01 8.01652893e-01 5.37190083e-01 2.72727273e-01\n",
      "  2.64462810e-01 1.07041322e+02 1.86685950e+02 8.91157025e+01\n",
      "  7.73553719e+00 9.25619835e-01 9.58677686e-01 7.35537190e-01]\n",
      " [9.26829268e-01 7.31707317e-01 8.29268293e-01 7.31707317e-02\n",
      "  1.82926829e-01 3.43439024e+02 2.13036585e+02 1.30085366e+02\n",
      "  7.65853659e+00 1.04878049e+00 8.90243902e-01 6.34146341e-01]\n",
      " [7.54966887e-01 5.62913907e-01 9.66887417e-01 2.51655629e-01\n",
      "  2.11920530e-01 2.69417219e+02 1.63973510e+01 6.83708609e+01\n",
      "  7.64900662e+00 9.27152318e-01 9.60264901e-01 6.82119205e-01]] \n",
      "\n"
     ]
    }
   ],
   "source": [
    "KMeanClusters = KMeans(n_clusters = 5).fit(TrainDataK.iloc[:, :])\n",
    "print(KMeanClusters.labels_, '\\n')\n",
    "print(KMeanClusters.cluster_centers_, '\\n')"
   ]
  },
  {
   "cell_type": "code",
   "execution_count": 63,
   "id": "f5fb36f5",
   "metadata": {},
   "outputs": [
    {
     "data": {
      "image/png": "[encoded data removed]",
      "text/plain": [
       "<Figure size 600x600 with 1 Axes>"
      ]
     },
     "metadata": {},
     "output_type": "display_data"
    }
   ],
   "source": [
    "import matplotlib.pyplot as plt\n",
    "import numpy as np\n",
    "#DOWNLOAD PLOTTOOLS VIA CMD PROMPT:::import plottools\n",
    "XDep = TrainDataK['LoanAmount']\n",
    "plt.figure(figsize=(6,6))\n",
    "plt.scatter(XDep, KMeanClusters.labels_, color = \"red\", alpha = 0.5 , s = 10)\n",
    "#plt.scatter(XDep, KMeanClusters.cluster_centers_, color = \"black\", alpha = 0.5 , s = 10)\n",
    "plt.grid()\n",
    "plt.xlabel('Dependent var')\n",
    "plt.ylabel('Clusters')\n",
    "#plt.margins(x = 0, y = 0) \n",
    "plt.axis('auto')\n",
    "plt.show()"
   ]
  },
  {
   "cell_type": "markdown",
   "id": "2bc8ca37",
   "metadata": {},
   "source": [
    "## Clustering By KMedoids"
   ]
  },
  {
   "cell_type": "code",
   "execution_count": 64,
   "id": "04b4e6b2",
   "metadata": {},
   "outputs": [
    {
     "ename": "ModuleNotFoundError",
     "evalue": "No module named 'sklearn_extra'",
     "output_type": "error",
     "traceback": [
      "\u001b[1;31m---------------------------------------------------------------------------\u001b[0m",
      "\u001b[1;31mModuleNotFoundError\u001b[0m                       Traceback (most recent call last)",
      "\u001b[1;32m~\\AppData\\Local\\Temp\\ipykernel_5684\\1473113870.py\u001b[0m in \u001b[0;36m<module>\u001b[1;34m\u001b[0m\n\u001b[0;32m      1\u001b[0m \u001b[1;32mimport\u001b[0m \u001b[0mnumpy\u001b[0m \u001b[1;32mas\u001b[0m \u001b[0mnp\u001b[0m\u001b[1;33m\u001b[0m\u001b[1;33m\u001b[0m\u001b[0m\n\u001b[1;32m----> 2\u001b[1;33m \u001b[1;32mfrom\u001b[0m \u001b[0msklearn_extra\u001b[0m\u001b[1;33m.\u001b[0m\u001b[0mcluster\u001b[0m \u001b[1;32mimport\u001b[0m \u001b[0mKMedoids\u001b[0m\u001b[1;33m\u001b[0m\u001b[1;33m\u001b[0m\u001b[0m\n\u001b[0m",
      "\u001b[1;31mModuleNotFoundError\u001b[0m: No module named 'sklearn_extra'"
     ]
    }
   ],
   "source": [
    "import numpy as np\n",
    "from sklearn_extra.cluster import KMedoids"
   ]
  },
  {
   "cell_type": "code",
   "execution_count": 65,
   "id": "01a59af4",
   "metadata": {},
   "outputs": [
    {
     "ename": "NameError",
     "evalue": "name 'KMedoids' is not defined",
     "output_type": "error",
     "traceback": [
      "\u001b[1;31m---------------------------------------------------------------------------\u001b[0m",
      "\u001b[1;31mNameError\u001b[0m                                 Traceback (most recent call last)",
      "\u001b[1;32m~\\AppData\\Local\\Temp\\ipykernel_5684\\3868463741.py\u001b[0m in \u001b[0;36m<module>\u001b[1;34m\u001b[0m\n\u001b[0;32m      1\u001b[0m X = np.asarray([[1, 2], [1, 4], [1, 0],\n\u001b[0;32m      2\u001b[0m                 [4, 2], [4, 4], [4, 0]])\n\u001b[1;32m----> 3\u001b[1;33m \u001b[0mkmedoids\u001b[0m \u001b[1;33m=\u001b[0m \u001b[0mKMedoids\u001b[0m\u001b[1;33m(\u001b[0m\u001b[0mn_clusters\u001b[0m\u001b[1;33m=\u001b[0m\u001b[1;36m2\u001b[0m\u001b[1;33m,\u001b[0m \u001b[0mrandom_state\u001b[0m\u001b[1;33m=\u001b[0m\u001b[1;36m0\u001b[0m\u001b[1;33m)\u001b[0m\u001b[1;33m.\u001b[0m\u001b[0mfit\u001b[0m\u001b[1;33m(\u001b[0m\u001b[0mX\u001b[0m\u001b[1;33m)\u001b[0m\u001b[1;33m\u001b[0m\u001b[1;33m\u001b[0m\u001b[0m\n\u001b[0m\u001b[0;32m      4\u001b[0m \u001b[0mkmedoids\u001b[0m\u001b[1;33m.\u001b[0m\u001b[0mlabels_\u001b[0m\u001b[1;33m\u001b[0m\u001b[1;33m\u001b[0m\u001b[0m\n\u001b[0;32m      5\u001b[0m \u001b[0marray\u001b[0m\u001b[1;33m(\u001b[0m\u001b[1;33m[\u001b[0m\u001b[1;36m0\u001b[0m\u001b[1;33m,\u001b[0m \u001b[1;36m0\u001b[0m\u001b[1;33m,\u001b[0m \u001b[1;36m0\u001b[0m\u001b[1;33m,\u001b[0m \u001b[1;36m1\u001b[0m\u001b[1;33m,\u001b[0m \u001b[1;36m1\u001b[0m\u001b[1;33m,\u001b[0m \u001b[1;36m1\u001b[0m\u001b[1;33m]\u001b[0m\u001b[1;33m)\u001b[0m\u001b[1;33m\u001b[0m\u001b[1;33m\u001b[0m\u001b[0m\n",
      "\u001b[1;31mNameError\u001b[0m: name 'KMedoids' is not defined"
     ]
    }
   ],
   "source": [
    "X = np.asarray([[1, 2], [1, 4], [1, 0],\n",
    "                [4, 2], [4, 4], [4, 0]])\n",
    "kmedoids = KMedoids(n_clusters=2, random_state=0).fit(X)\n",
    "kmedoids.labels_\n",
    "array([0, 0, 0, 1, 1, 1])\n",
    "kmedoids.predict([[0,0], [4,4]])\n",
    "array([0, 1])\n",
    "kmedoids.cluster_centers_\n",
    "array([[1., 2.],\n",
    "       [4., 2.]])\n",
    "kmedoids.inertia_"
   ]
  },
  {
   "cell_type": "code",
   "execution_count": null,
   "id": "73675265",
   "metadata": {},
   "outputs": [],
   "source": []
  }
 ],
 "metadata": {
  "kernelspec": {
   "display_name": "Python 3 (ipykernel)",
   "language": "python",
   "name": "python3"
  },
  "language_info": {
   "codemirror_mode": {
    "name": "ipython",
    "version": 3
   },
   "file_extension": ".py",
   "mimetype": "text/x-python",
   "name": "python",
   "nbconvert_exporter": "python",
   "pygments_lexer": "ipython3",
   "version": "3.9.13"
  }
 },
 "nbformat": 4,
 "nbformat_minor": 5
}
