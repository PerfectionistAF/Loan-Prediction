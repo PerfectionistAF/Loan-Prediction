{
 "cells": [
  {
   "cell_type": "code",
   "execution_count": 1,
   "metadata": {},
   "outputs": [
    {
     "name": "stdout",
     "output_type": "stream",
     "text": [
      "Test accuracy: 0.5934959349593496\n",
      "\n",
      "Predicted:\n",
      "\n",
      "  Loan_Status_N Loan_Status_Y\n",
      "0            No           Yes\n",
      "1            No           Yes\n",
      "2            No           Yes\n",
      "3            No           Yes\n",
      "4            No           Yes \n",
      "\n",
      "Actual:\n",
      "\n",
      "    Loan_Status_N Loan_Status_Y\n",
      "350            No           Yes\n",
      "377            No           Yes\n",
      "163            No           Yes\n",
      "609            No           Yes\n",
      "132            No           Yes\n"
     ]
    }
   ],
   "source": [
    "import pandas as pd\n",
    "from sklearn.model_selection import train_test_split\n",
    "from sklearn.neighbors import KNeighborsClassifier\n",
    "\n",
    "# Load data into a pandas DataFrame\n",
    "Train_Data = pd.read_csv('Train_Data.csv')\n",
    "\n",
    "# Convert categorical variables into indicator variables\n",
    "Train_Data = pd.get_dummies(Train_Data)\n",
    "\n",
    "# Split data into training and test sets\n",
    "X_train, X_test, y_train, y_test = train_test_split(\n",
    "    Train_Data.drop(['Loan_Status_N', 'Loan_Status_Y'], axis=1),\n",
    "    Train_Data[['Loan_Status_N', 'Loan_Status_Y']],\n",
    "    test_size=0.2,\n",
    "    random_state=42\n",
    ")\n",
    "\n",
    "# Train KNN classifier on training data\n",
    "clf = KNeighborsClassifier()\n",
    "clf.fit(X_train, y_train)\n",
    "\n",
    "# Evaluate classifier on test data\n",
    "accuracy = clf.score(X_test, y_test)\n",
    "print(f'Test accuracy: {accuracy}\\n')\n",
    "\n",
    "# Make predictions on test data\n",
    "y_pred = clf.predict(X_test)\n",
    "\n",
    "# Map labels to their corresponding values\n",
    "label_map = {0: 'No', 1: 'Yes'}\n",
    "y_test = y_test.applymap(lambda x: label_map[x])\n",
    "y_pred = pd.DataFrame(y_pred, columns=['Loan_Status_N', 'Loan_Status_Y']).applymap(lambda x: label_map[x])\n",
    "\n",
    "# Print predicted and actual values\n",
    "print('Predicted:\\n')\n",
    "print(y_pred.head(),'\\n')\n",
    "print('Actual:\\n')\n",
    "print(y_test.head())\n"
   ]
  },
  {
   "cell_type": "code",
   "execution_count": null,
   "metadata": {},
   "outputs": [],
   "source": []
  }
 ],
 "metadata": {
  "kernelspec": {
   "display_name": "Python 3",
   "language": "python",
   "name": "python3"
  },
  "language_info": {
   "codemirror_mode": {
    "name": "ipython",
    "version": 3
   },
   "file_extension": ".py",
   "mimetype": "text/x-python",
   "name": "python",
   "nbconvert_exporter": "python",
   "pygments_lexer": "ipython3",
   "version": "3.8.5"
  }
 },
 "nbformat": 4,
 "nbformat_minor": 4
}
